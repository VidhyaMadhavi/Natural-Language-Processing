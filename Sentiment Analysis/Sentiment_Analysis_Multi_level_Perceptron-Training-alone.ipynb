{
 "cells": [
  {
   "cell_type": "markdown",
   "metadata": {},
   "source": [
    "## Define a Vocabulary"
   ]
  },
  {
   "cell_type": "markdown",
   "metadata": {},
   "source": [
    "It is important to define a vocabulary of known words when using a bag-of-words model.\n",
    "\n",
    "The more words, the larger the representation of documents, therefore it is important to constrain the words to only those believed to be predictive. This is difficult to know beforehand and often it is important to test different hypotheses about how to construct a useful vocabulary.\n",
    "\n",
    "We have already seen how we can remove punctuation and numbers from the vocabulary in the previous section. We can repeat this for all documents and build a set of all known words.\n",
    "\n",
    "We can develop a vocabulary as a Counter, which is a dictionary mapping of words and their count that allows us to easily update and query."
   ]
  },
  {
   "cell_type": "markdown",
   "metadata": {},
   "source": [
    "Each document can be added to the counter (a new function called add_doc_to_vocab()) and we can step over all of the reviews in the negative directory and then the positive directory (a new function called process_docs())."
   ]
  },
  {
   "cell_type": "markdown",
   "metadata": {},
   "source": [
    "## First lets create vocabulary"
   ]
  },
  {
   "cell_type": "markdown",
   "metadata": {},
   "source": [
    "## Second Part"
   ]
  },
  {
   "cell_type": "code",
   "execution_count": 1,
   "metadata": {
    "collapsed": true
   },
   "outputs": [],
   "source": [
    "No_of_Files_to_process = 100"
   ]
  },
  {
   "cell_type": "code",
   "execution_count": 2,
   "metadata": {},
   "outputs": [
    {
     "name": "stderr",
     "output_type": "stream",
     "text": [
      "Using TensorFlow backend.\n"
     ]
    }
   ],
   "source": [
    "from numpy import array\n",
    "from string import punctuation\n",
    "from os import listdir\n",
    "from collections import Counter\n",
    "from nltk.corpus import stopwords\n",
    "from keras.preprocessing.text import Tokenizer\n",
    "from keras.models import Sequential\n",
    "from keras.layers import Dense\n",
    "from keras.layers import Dropout\n",
    "from pandas import DataFrame\n",
    "from matplotlib import pyplot\n"
   ]
  },
  {
   "cell_type": "code",
   "execution_count": 3,
   "metadata": {
    "collapsed": true
   },
   "outputs": [],
   "source": [
    "# load doc into memory\n",
    "def load_doc(filename):\n",
    "    # open the file as read only\n",
    "    file = open(filename, 'r', encoding=\"latin1\")\n",
    "    # read all text\n",
    "    text = file.read()\n",
    "    # close the file\n",
    "    file.close()\n",
    "    return text"
   ]
  },
  {
   "cell_type": "code",
   "execution_count": 4,
   "metadata": {
    "collapsed": true
   },
   "outputs": [],
   "source": [
    "# turn a doc into clean tokens\n",
    "def clean_doc(doc):\n",
    "\t# split into tokens by white space\n",
    "\ttokens = doc.split()\n",
    "\t# remove punctuation from each token\n",
    "\ttable = str.maketrans('', '', punctuation)\n",
    "\ttokens = [w.translate(table) for w in tokens]\n",
    "\t# remove remaining tokens that are not alphabetic\n",
    "\ttokens = [word for word in tokens if word.isalpha()]\n",
    "\t# filter out stop words\n",
    "\tstop_words = set(stopwords.words('english'))\n",
    "\ttokens = [w for w in tokens if not w in stop_words]\n",
    "\t# filter out short tokens\n",
    "\ttokens = [word for word in tokens if len(word) > 1]\n",
    "\treturn tokens"
   ]
  },
  {
   "cell_type": "code",
   "execution_count": 5,
   "metadata": {
    "collapsed": true
   },
   "outputs": [],
   "source": [
    "# load doc, clean and return line of tokens\n",
    "def doc_to_line(filename, vocab):\n",
    "\t# load the doc\n",
    "\tdoc = load_doc(filename)\n",
    "\t# clean doc\n",
    "\ttokens = clean_doc(doc)\n",
    "\t# filter by vocab\n",
    "\ttokens = [w for w in tokens if w in vocab]\n",
    "\treturn ' '.join(tokens)"
   ]
  },
  {
   "cell_type": "code",
   "execution_count": 6,
   "metadata": {
    "collapsed": true
   },
   "outputs": [],
   "source": [
    "# load all docs in a directory\n",
    "def process_docs(directory, vocab, is_trian):\n",
    "    lines = list()\n",
    "    count=0\n",
    "    for filename in listdir(directory):\n",
    "        count = count + 1\n",
    "        if count <= No_of_Files_to_process :\n",
    "            # create the full path of the file to open\n",
    "            path = directory + '/' + filename\n",
    "            # load and clean the doc\n",
    "            line = doc_to_line(path, vocab)\n",
    "            # add to list\n",
    "            lines.append(line)\n",
    "    return lines"
   ]
  },
  {
   "cell_type": "code",
   "execution_count": 7,
   "metadata": {
    "collapsed": true
   },
   "outputs": [],
   "source": [
    "# evaluate a neural network model\n",
    "def evaluate_mode(Xtrain, ytrain, Xtest, ytest):\n",
    "\tscores = list()\n",
    "\tn_repeats = 1\n",
    "\tn_words = Xtest.shape[1]\n",
    "\tfor i in range(n_repeats):\n",
    "\t\t# define network\n",
    "\t\tmodel = Sequential()\n",
    "\t\tmodel.add(Dense(50, input_shape=(n_words,), activation='relu'))\n",
    "\t\tmodel.add(Dense(1, activation='sigmoid'))\n",
    "\t\t# compile network\n",
    "\t\tmodel.compile(loss='binary_crossentropy', optimizer='adam', metrics=['accuracy'])\n",
    "\t\t# fit network\n",
    "\t\tmodel.fit(Xtrain, ytrain, epochs=50, verbose=2)\n",
    "\t\t# evaluate\n",
    "\t\tloss, acc = model.evaluate(Xtest, ytest, verbose=0)\n",
    "\t\tscores.append(acc)\n",
    "\t\tprint('%d accuracy: %s' % ((i+1), acc))\n",
    "\treturn scores"
   ]
  },
  {
   "cell_type": "code",
   "execution_count": 8,
   "metadata": {
    "collapsed": true
   },
   "outputs": [],
   "source": [
    "# prepare bag of words encoding of docs\n",
    "def prepare_data(train_docs, test_docs, mode):\n",
    "\t# create the tokenizer\n",
    "\ttokenizer = Tokenizer()\n",
    "\t# fit the tokenizer on the documents\n",
    "\ttokenizer.fit_on_texts(train_docs)\n",
    "\t# encode training data set\n",
    "\tXtrain = tokenizer.texts_to_matrix(train_docs, mode=mode)\n",
    "\t# encode training data set\n",
    "\tXtest = tokenizer.texts_to_matrix(test_docs, mode=mode)\n",
    "\treturn Xtrain, Xtest\n"
   ]
  },
  {
   "cell_type": "code",
   "execution_count": 9,
   "metadata": {},
   "outputs": [],
   "source": [
    "# load the vocabulary\n",
    "vocab_filename = 'vocab.txt'\n",
    "vocab = load_doc(vocab_filename)\n",
    "vocab = vocab.split()\n",
    "vocab = set(vocab)\n",
    "# vocab"
   ]
  },
  {
   "cell_type": "code",
   "execution_count": 10,
   "metadata": {
    "collapsed": true
   },
   "outputs": [],
   "source": [
    "# load all training reviews\n",
    "train_positive_lines = process_docs('data_movie_reviews/train/pos', vocab, True)\n",
    "train_negative_lines = process_docs('data_movie_reviews/train/neg', vocab, True)\n",
    "train_docs = train_positive_lines + train_negative_lines\n"
   ]
  },
  {
   "cell_type": "code",
   "execution_count": 11,
   "metadata": {
    "collapsed": true
   },
   "outputs": [],
   "source": [
    "# load all training reviews\n",
    "test_positive_lines = process_docs('data_movie_reviews/test/pos', vocab, True)\n",
    "test_negative_lines = process_docs('data_movie_reviews/test/neg', vocab, True)\n",
    "test_docs = test_positive_lines + test_negative_lines\n"
   ]
  },
  {
   "cell_type": "code",
   "execution_count": 12,
   "metadata": {},
   "outputs": [
    {
     "data": {
      "text/plain": [
       "(100, 100, 200)"
      ]
     },
     "execution_count": 12,
     "metadata": {},
     "output_type": "execute_result"
    }
   ],
   "source": [
    "len(train_positive_lines), len(train_negative_lines), len(train_docs)"
   ]
  },
  {
   "cell_type": "markdown",
   "metadata": {},
   "source": [
    "- ### 0 - Negative \n",
    "- ### 1 - Positive\n",
    "- Create labels for each review"
   ]
  },
  {
   "cell_type": "code",
   "execution_count": 13,
   "metadata": {
    "collapsed": true
   },
   "outputs": [],
   "source": [
    "# prepare labels\n",
    "ytrain = array([0 for _ in range(100)] + [1 for _ in range(100)])\n",
    "ytest = array([0 for _ in range(100)] + [1 for _ in range(100)])"
   ]
  },
  {
   "cell_type": "markdown",
   "metadata": {},
   "source": [
    "### Comparing Word Scoring Methods\n",
    "The texts_to_matrix() function for the Tokenizer in the Keras API provides 4 different methods for scoring words; they are:\n",
    "\n",
    "    “binary” Where words are marked as present (1) or absent (0).\n",
    "    “count” Where the occurrence count for each word is marked as an integer.\n",
    "    “tfidf” Where each word is scored based on their frequency, where words that are common across all documents are penalized.\n",
    "    “freq” Where words are scored based on their frequency of occurrence within the document.\n",
    "We can evaluate the skill of the model developed in the previous section fit using each of the 4 supported word scoring modes."
   ]
  },
  {
   "cell_type": "code",
   "execution_count": 14,
   "metadata": {},
   "outputs": [
    {
     "name": "stdout",
     "output_type": "stream",
     "text": [
      "Epoch 1/50\n",
      " - 1s - loss: 0.6857 - acc: 0.5700\n",
      "Epoch 2/50\n",
      " - 0s - loss: 0.4392 - acc: 0.9850\n",
      "Epoch 3/50\n",
      " - 0s - loss: 0.2795 - acc: 1.0000\n",
      "Epoch 4/50\n",
      " - 0s - loss: 0.1671 - acc: 1.0000\n",
      "Epoch 5/50\n",
      " - 0s - loss: 0.1010 - acc: 1.0000\n",
      "Epoch 6/50\n",
      " - 0s - loss: 0.0630 - acc: 1.0000\n",
      "Epoch 7/50\n",
      " - 0s - loss: 0.0416 - acc: 1.0000\n",
      "Epoch 8/50\n",
      " - 0s - loss: 0.0296 - acc: 1.0000\n",
      "Epoch 9/50\n",
      " - 0s - loss: 0.0224 - acc: 1.0000\n",
      "Epoch 10/50\n",
      " - 0s - loss: 0.0176 - acc: 1.0000\n",
      "Epoch 11/50\n",
      " - 0s - loss: 0.0144 - acc: 1.0000\n",
      "Epoch 12/50\n",
      " - 0s - loss: 0.0120 - acc: 1.0000\n",
      "Epoch 13/50\n",
      " - 0s - loss: 0.0103 - acc: 1.0000\n",
      "Epoch 14/50\n",
      " - 0s - loss: 0.0090 - acc: 1.0000\n",
      "Epoch 15/50\n",
      " - 0s - loss: 0.0079 - acc: 1.0000\n",
      "Epoch 16/50\n",
      " - 0s - loss: 0.0070 - acc: 1.0000\n",
      "Epoch 17/50\n",
      " - 0s - loss: 0.0063 - acc: 1.0000\n",
      "Epoch 18/50\n",
      " - 0s - loss: 0.0057 - acc: 1.0000\n",
      "Epoch 19/50\n",
      " - 0s - loss: 0.0052 - acc: 1.0000\n",
      "Epoch 20/50\n",
      " - 0s - loss: 0.0047 - acc: 1.0000\n",
      "Epoch 21/50\n",
      " - 0s - loss: 0.0043 - acc: 1.0000\n",
      "Epoch 22/50\n",
      " - 0s - loss: 0.0039 - acc: 1.0000\n",
      "Epoch 23/50\n",
      " - 0s - loss: 0.0036 - acc: 1.0000\n",
      "Epoch 24/50\n",
      " - 0s - loss: 0.0034 - acc: 1.0000\n",
      "Epoch 25/50\n",
      " - 0s - loss: 0.0031 - acc: 1.0000\n",
      "Epoch 26/50\n",
      " - 0s - loss: 0.0029 - acc: 1.0000\n",
      "Epoch 27/50\n",
      " - 0s - loss: 0.0027 - acc: 1.0000\n",
      "Epoch 28/50\n",
      " - 0s - loss: 0.0025 - acc: 1.0000\n",
      "Epoch 29/50\n",
      " - 0s - loss: 0.0024 - acc: 1.0000\n",
      "Epoch 30/50\n",
      " - 0s - loss: 0.0023 - acc: 1.0000\n",
      "Epoch 31/50\n",
      " - 0s - loss: 0.0021 - acc: 1.0000\n",
      "Epoch 32/50\n",
      " - 0s - loss: 0.0020 - acc: 1.0000\n",
      "Epoch 33/50\n",
      " - 0s - loss: 0.0019 - acc: 1.0000\n",
      "Epoch 34/50\n",
      " - 0s - loss: 0.0018 - acc: 1.0000\n",
      "Epoch 35/50\n",
      " - 0s - loss: 0.0017 - acc: 1.0000\n",
      "Epoch 36/50\n",
      " - 0s - loss: 0.0016 - acc: 1.0000\n",
      "Epoch 37/50\n",
      " - 0s - loss: 0.0016 - acc: 1.0000\n",
      "Epoch 38/50\n",
      " - 0s - loss: 0.0015 - acc: 1.0000\n",
      "Epoch 39/50\n",
      " - 0s - loss: 0.0014 - acc: 1.0000\n",
      "Epoch 40/50\n",
      " - 0s - loss: 0.0014 - acc: 1.0000\n",
      "Epoch 41/50\n",
      " - 0s - loss: 0.0013 - acc: 1.0000\n",
      "Epoch 42/50\n",
      " - 0s - loss: 0.0012 - acc: 1.0000\n",
      "Epoch 43/50\n",
      " - 0s - loss: 0.0012 - acc: 1.0000\n",
      "Epoch 44/50\n",
      " - 0s - loss: 0.0011 - acc: 1.0000\n",
      "Epoch 45/50\n",
      " - 0s - loss: 0.0011 - acc: 1.0000\n",
      "Epoch 46/50\n",
      " - 0s - loss: 0.0010 - acc: 1.0000\n",
      "Epoch 47/50\n",
      " - 0s - loss: 0.0010 - acc: 1.0000\n",
      "Epoch 48/50\n",
      " - 0s - loss: 9.6556e-04 - acc: 1.0000\n",
      "Epoch 49/50\n",
      " - 0s - loss: 9.2909e-04 - acc: 1.0000\n",
      "Epoch 50/50\n",
      " - 0s - loss: 8.9123e-04 - acc: 1.0000\n",
      "1 accuracy: 0.75\n",
      "       binary\n",
      "count    1.00\n",
      "mean     0.75\n",
      "std       NaN\n",
      "min      0.75\n",
      "25%      0.75\n",
      "50%      0.75\n",
      "75%      0.75\n",
      "max      0.75\n"
     ]
    },
    {
     "data": {
      "image/png": "[encoded data removed]",
      "text/plain": [
       "<matplotlib.figure.Figure at 0x1ac0f88bdd8>"
      ]
     },
     "metadata": {},
     "output_type": "display_data"
    }
   ],
   "source": [
    "modes = ['binary', 'count', 'tfidf', 'freq']\n",
    "results = DataFrame()\n",
    "# for mode in modes:\n",
    "for mode in ['binary']:\n",
    "    # prepare data for mode\n",
    "    Xtrain, Xtest = prepare_data(train_docs, test_docs, mode)\n",
    "    # evaluate model on data for mode\n",
    "    results[mode] = evaluate_mode(Xtrain, ytrain, Xtest, ytest)\n",
    "# summarize results\n",
    "print(results.describe())\n",
    "# plot results\n",
    "results.boxplot()\n",
    "pyplot.show()"
   ]
  },
  {
   "cell_type": "code",
   "execution_count": null,
   "metadata": {
    "collapsed": true
   },
   "outputs": [],
   "source": []
  }
 ],
 "metadata": {
  "kernelspec": {
   "display_name": "Python 3",
   "language": "python",
   "name": "python3"
  },
  "language_info": {
   "codemirror_mode": {
    "name": "ipython",
    "version": 3
   },
   "file_extension": ".py",
   "mimetype": "text/x-python",
   "name": "python",
   "nbconvert_exporter": "python",
   "pygments_lexer": "ipython3",
   "version": "3.6.3"
  }
 },
 "nbformat": 4,
 "nbformat_minor": 2
}
